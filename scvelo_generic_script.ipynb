{
 "cells": [
  {
   "cell_type": "code",
   "execution_count": null,
   "id": "6d1dd0a8",
   "metadata": {},
   "outputs": [],
   "source": [
    "## Load all required packages\n",
    "\n",
    "import scanpy as sc\n",
    "import anndata\n",
    "from scipy import io\n",
    "from scipy.sparse import coo_matrix, csr_matrix\n",
    "import numpy as np\n",
    "import pandas as pd\n",
    "import scvelo as scv\n",
    "import anndata as ad\n",
    "import os\n",
    "import glob\n"
   ]
  },
  {
   "cell_type": "code",
   "execution_count": null,
   "id": "95c6165a",
   "metadata": {},
   "outputs": [],
   "source": [
    "os.chdir(\"<path/to/files>\")"
   ]
  },
  {
   "cell_type": "markdown",
   "id": "d403774b",
   "metadata": {},
   "source": [
    "## R script to convert Seurat object to anndata\n",
    "### Refer SeuratObj_to_anndata.R and then run the code below"
   ]
  },
  {
   "cell_type": "code",
   "execution_count": null,
   "id": "d2a0905d",
   "metadata": {},
   "outputs": [],
   "source": [
    "\n",
    "# load anndata object\n",
    "adata = sc.read_mtx(\"counts.mtx\").transpose()\n",
    "\n",
    "# load cell metadata\n",
    "cell_meta = pd.read_csv(\"metadata.csv\", index_col=0)\n",
    "\n",
    "# load gene names\n",
    "gene_names = pd.read_csv(\"gene_names.csv\", header=None, index_col=0).index.tolist()\n",
    "\n",
    "# set anndata observations and index obs by barcodes, var by gene names\n",
    "adata.obs = cell_meta\n",
    "adata.var_names = gene_names\n",
    "adata.obs.index = adata.obs['barcode']\n",
    "\n",
    "# load dimensional reduction\n",
    "pca = pd.read_csv(\"pca.csv\", index_col=0)\n",
    "\n",
    "# set pca and umap\n",
    "adata.obsm['X_pca'] = pca.values\n",
    "adata.obsm['X_umap'] = adata.obs[['UMAP_1', 'UMAP_2']].values\n"
   ]
  },
  {
   "cell_type": "code",
   "execution_count": null,
   "id": "7efdd6ab",
   "metadata": {},
   "outputs": [],
   "source": [
    "adata"
   ]
  },
  {
   "cell_type": "code",
   "execution_count": null,
   "id": "7baeb531",
   "metadata": {},
   "outputs": [],
   "source": [
    "adata.obs.head()"
   ]
  },
  {
   "cell_type": "markdown",
   "id": "66d7e0d8",
   "metadata": {
    "scrolled": false
   },
   "source": [
    "# plot a UMAP colored by clusters to test:\n",
    "sc.pl.umap(adata, color=['cluster'], frameon=False,title='UMAP based on Cell Types',legend_fontsize='large')\n",
    "sc.pl.umap(adata, color=['cell_type'], frameon=False,title='UMAP based on Cell Types',legend_fontsize='large')\n",
    "sc.pl.umap(adata, color=['object'], frameon=False,title='UMAP based on Cell Types',legend_fontsize='large')\n"
   ]
  },
  {
   "cell_type": "code",
   "execution_count": null,
   "id": "728e79a8",
   "metadata": {},
   "outputs": [],
   "source": [
    "# load loom files for spliced/unspliced matrices for each sample:\n",
    "\n",
    "ldata1 = scv.read('loom_files/sample1.loom', cache=False)\n",
    "ldata2 = scv.read('loom_files/sample2.loom', cache=False)\n",
    "ldata3 = scv.read('loom_files/sample3.loom', cache=False)\n",
    "ldata4 = scv.read('loom_files/sample4.loom', cache=False)\n"
   ]
  },
  {
   "cell_type": "code",
   "execution_count": null,
   "id": "ff438a5e",
   "metadata": {},
   "outputs": [],
   "source": [
    "## create a list depending on the number on samples\n",
    "ldata_list = [ldata1, ldata2, ldata3, ldata4]\n",
    "\n",
    "## add the sample names either based on loom file names or from metadata\n",
    "sample_names = [\"sample1\", \"sample2\", \"sample3\", \"sample4\"]\n",
    "df = cell_meta\n",
    "\n",
    "## generate new column in metadata for the barcode suffixes that will be used to \n",
    "df['suffix'] = df['barcode'].str.split('-', n=1).str[1]\n",
    "df['suffix'] = '-' + df['suffix']\n",
    "\n",
    "new_df = df[['object', 'suffix']].drop_duplicates()\n",
    "\n"
   ]
  },
  {
   "cell_type": "code",
   "execution_count": null,
   "id": "4357bcf7",
   "metadata": {},
   "outputs": [],
   "source": [
    "## Rename barcodes in ldata objects\n",
    "## This allows renaming the barcodes for loom files to match with the metadata\n",
    "## Here we modify the observation names of each object in ldata_list based on the associated suffix value \n",
    "## from the metadata\n",
    "\n",
    "for i in range(len(ldata_list)):\n",
    "    ldata = ldata_list[i]\n",
    "    sample_name = sample_names[i]\n",
    "    suffix = new_df[new_df['object'] == sample_name]['suffix'].values[0]\n",
    "\n",
    "    barcodes = [bc.split(':')[1] if len(bc.split(':')) > 1 else bc for bc in ldata.obs_names]\n",
    "    barcodes = [bc[:-1] + suffix for bc in barcodes]\n",
    "    ldata.obs_names = barcodes\n",
    "\n",
    "    ldata_list[i] = ldata\n",
    "\n"
   ]
  },
  {
   "cell_type": "code",
   "execution_count": null,
   "id": "d830a514",
   "metadata": {},
   "outputs": [],
   "source": [
    "## Making var names unique\n",
    "\n",
    "for data in ldata_list:\n",
    "    data.var_names_make_unique()\n"
   ]
  },
  {
   "cell_type": "code",
   "execution_count": null,
   "id": "1de24a97",
   "metadata": {},
   "outputs": [],
   "source": [
    "# make obs names unique\n",
    "\n",
    "for data in ldata_list:\n",
    "    data.obs_names_make_unique()\n",
    "    "
   ]
  },
  {
   "cell_type": "code",
   "execution_count": null,
   "id": "17032681",
   "metadata": {},
   "outputs": [],
   "source": [
    "## Remove the last two characters(normally we we have more than 10 samples) \n",
    "## from index to match with anndata barcodes\n",
    "\n",
    "ldata.obs.index = ldata.obs.index.map(lambda x: str(x)[:-2])\n",
    "ldata.obs.index"
   ]
  },
  {
   "cell_type": "code",
   "execution_count": null,
   "id": "5cd9d061",
   "metadata": {},
   "outputs": [],
   "source": [
    "ldata.obs.index.name = 'barcode'\n",
    "#ldata.obs.head()"
   ]
  },
  {
   "cell_type": "code",
   "execution_count": null,
   "id": "0a78ac72",
   "metadata": {},
   "outputs": [],
   "source": [
    "## concatenate all the loom files\n",
    "\n",
    "ldata = ldata1.concatenate([ldata2,ldata3,ldata4])"
   ]
  },
  {
   "cell_type": "code",
   "execution_count": null,
   "id": "7585bbfa",
   "metadata": {},
   "outputs": [],
   "source": [
    "## Check dimensions for adata\n",
    "\n",
    "adata\n"
   ]
  },
  {
   "cell_type": "code",
   "execution_count": null,
   "id": "c13e8789",
   "metadata": {},
   "outputs": [],
   "source": [
    "## Check dimensions for ldata\n",
    "\n",
    "ldata\n"
   ]
  },
  {
   "cell_type": "markdown",
   "id": "5616b87f",
   "metadata": {},
   "source": [
    "## Merge the files"
   ]
  },
  {
   "cell_type": "code",
   "execution_count": null,
   "id": "db01cc29",
   "metadata": {},
   "outputs": [],
   "source": [
    "## merge matrices into the original adata object\n",
    "## may need to change the id_length depending on the lenght of cell_ID\n",
    "## id_length parameter specifies the length of the unique identifier (ID) that is assigned to \n",
    "## each merged observation in the resulting AnnData object\n",
    "\n",
    "adata2 = scv.utils.merge(adata, ldata, id_length=16)\n"
   ]
  },
  {
   "cell_type": "code",
   "execution_count": null,
   "id": "b3528518",
   "metadata": {},
   "outputs": [],
   "source": [
    "adata2"
   ]
  },
  {
   "cell_type": "code",
   "execution_count": null,
   "id": "fa098c4c",
   "metadata": {},
   "outputs": [],
   "source": [
    "## save intermediate merged object\n",
    "\n",
    "adata2.write_h5ad(\"<path/to/dir>/merged_adata.h5ad\")\n"
   ]
  },
  {
   "cell_type": "markdown",
   "id": "9e58c4fb",
   "metadata": {},
   "source": [
    "### Inspect the proportion of spliced and unspliced transcripts in each of our cell clusters\n",
    "##### pie chart of spliced/unspliced proprtions."
   ]
  },
  {
   "cell_type": "code",
   "execution_count": null,
   "id": "62c53c43",
   "metadata": {},
   "outputs": [],
   "source": [
    "## Need to run this step if scv.pl.proportions fails.\n",
    "## here we make the annotation column type as category\n",
    "\n",
    "#adata2.obs['<annotation/column/name>'] = adata2.obs['<annotation/column/name>'].astype('category')\n"
   ]
  },
  {
   "cell_type": "code",
   "execution_count": null,
   "id": "570496a9",
   "metadata": {},
   "outputs": [],
   "source": [
    "# merge matrices into the original adata object\n",
    "\n",
    "scv.pl.proportions(adata2, groupby='<annotation/column/name>',figsize=(27, 7),fontsize=11)\n"
   ]
  },
  {
   "cell_type": "code",
   "execution_count": null,
   "id": "6a1532f3",
   "metadata": {},
   "outputs": [],
   "source": [
    "## Preprocess the Data\n",
    "\n",
    "scv.pp.filter_and_normalize(adata2)\n",
    "scv.pp.moments(adata2, n_pcs=30, n_neighbors=30)\n",
    "\n"
   ]
  },
  {
   "cell_type": "code",
   "execution_count": null,
   "id": "c70cbb7b",
   "metadata": {},
   "outputs": [],
   "source": [
    "## compute velocity\n",
    "## default mode is stochastic. You can opt for deterministic or dynamical modeling as well\n",
    "## refer to scvelo documentation for more details.\n",
    "## Downstreaming may change depending on the model user selects\n",
    "\n",
    "scv.tl.velocity(adata2, vkey='velocity', mode='stochastic')\n"
   ]
  },
  {
   "cell_type": "code",
   "execution_count": null,
   "id": "d74b3623",
   "metadata": {},
   "outputs": [],
   "source": [
    "scv.tl.velocity_graph(adata2)\n",
    "\n"
   ]
  },
  {
   "cell_type": "code",
   "execution_count": null,
   "id": "6334604a",
   "metadata": {},
   "outputs": [],
   "source": [
    "adata2"
   ]
  },
  {
   "cell_type": "code",
   "execution_count": null,
   "id": "8b07cf58",
   "metadata": {},
   "outputs": [],
   "source": [
    "## save the object after comouting velocity\n",
    "\n",
    "adata2.write_h5ad(\"<path/to/dir>/velocity_adata.h5ad\")\n"
   ]
  },
  {
   "cell_type": "code",
   "execution_count": null,
   "id": "a48e4887",
   "metadata": {},
   "outputs": [],
   "source": [
    "## Read the .h5ad object\n",
    "\n",
    "#adata2 = anndata.read_h5ad(\"<path/to/dir>/velocity_adata.h5ad\")\n"
   ]
  },
  {
   "cell_type": "markdown",
   "id": "b759369d",
   "metadata": {},
   "source": [
    "## User can either decide to run the visualization as part of the same script and save the results\n",
    "## Or run this locally by taking the above velocity_adata.h5ad object to explore more \n",
    "## Refer scvelo documentation for more - https://scvelo.readthedocs.io/en/stable/VelocityBasics/"
   ]
  },
  {
   "cell_type": "code",
   "execution_count": null,
   "id": "9188b48d",
   "metadata": {},
   "outputs": [],
   "source": [
    "## Visualize velocity fields\n",
    "\n",
    "scv.pl.velocity_embedding(adata2, basis='umap', frameon=False)\n",
    "\n"
   ]
  },
  {
   "cell_type": "code",
   "execution_count": null,
   "id": "cc456669",
   "metadata": {},
   "outputs": [],
   "source": [
    "## make sure to add annotation/column/name that has the seurat cluster annotation information in the metadata\n",
    "\n",
    "scv.pl.velocity_embedding_grid(adata2, basis='umap', color='<annotation/column/name>',title='', scale=0.25, \n",
    "                               size=10,figsize=(9,9), dpi=300)\n"
   ]
  },
  {
   "cell_type": "code",
   "execution_count": null,
   "id": "574d98da",
   "metadata": {
    "scrolled": false
   },
   "outputs": [],
   "source": [
    "scv.pl.velocity_embedding_stream(adata2, basis='umap', color=['<annotation/column/name>'], fontsize=8,\n",
    "                                 title='Stream plot of velocities on the embedding',\n",
    "                                 figsize=(10,10),save=\"Stream_plot.png\")\n",
    "\n",
    "\n"
   ]
  },
  {
   "cell_type": "code",
   "execution_count": null,
   "id": "f7c961a2",
   "metadata": {},
   "outputs": [],
   "source": [
    "scv.tl.paga(adata2, groups='<annotation/column/name>')\n",
    "\n",
    "## If you want to view this as a dataframe\n",
    "#df = scv.get_df(adata2, 'paga/transitions_confidence', precision=2).T"
   ]
  },
  {
   "cell_type": "code",
   "execution_count": null,
   "id": "596521b0",
   "metadata": {
    "scrolled": false
   },
   "outputs": [],
   "source": [
    "scv.pl.paga(adata2, basis='umap', size=75, alpha=1,figsize=(15,12),legend_fontsize=18,fontsize=22,\n",
    "            min_edge_width=2, node_size_scale=1.5,title ='PAGA graph', save=\"PAGA_graph.pdf\")"
   ]
  },
  {
   "cell_type": "code",
   "execution_count": null,
   "id": "7d2742f2",
   "metadata": {},
   "outputs": [],
   "source": []
  },
  {
   "cell_type": "code",
   "execution_count": null,
   "id": "2e659302",
   "metadata": {},
   "outputs": [],
   "source": []
  },
  {
   "cell_type": "code",
   "execution_count": null,
   "id": "2f90dd8d",
   "metadata": {},
   "outputs": [],
   "source": []
  },
  {
   "cell_type": "code",
   "execution_count": null,
   "id": "1b89f150",
   "metadata": {},
   "outputs": [],
   "source": []
  },
  {
   "cell_type": "code",
   "execution_count": null,
   "id": "32247e52",
   "metadata": {},
   "outputs": [],
   "source": []
  },
  {
   "cell_type": "code",
   "execution_count": null,
   "id": "deb9f18c",
   "metadata": {},
   "outputs": [],
   "source": []
  }
 ],
 "metadata": {
  "kernelspec": {
   "display_name": "Python 3 (ipykernel)",
   "language": "python",
   "name": "python3"
  },
  "language_info": {
   "codemirror_mode": {
    "name": "ipython",
    "version": 3
   },
   "file_extension": ".py",
   "mimetype": "text/x-python",
   "name": "python",
   "nbconvert_exporter": "python",
   "pygments_lexer": "ipython3",
   "version": "3.9.16"
  }
 },
 "nbformat": 4,
 "nbformat_minor": 5
}
